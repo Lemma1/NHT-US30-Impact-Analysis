{
 "cells": [
  {
   "cell_type": "code",
   "execution_count": 1,
   "metadata": {},
   "outputs": [],
   "source": [
    "%load_ext autoreload\n",
    "%autoreload 2"
   ]
  },
  {
   "cell_type": "code",
   "execution_count": 2,
   "metadata": {},
   "outputs": [],
   "source": [
    "import sys\n",
    "import os\n",
    "import numpy as np\n",
    "\n",
    "from collections import OrderedDict\n",
    "sys.path.append(\"..\")\n",
    "\n",
    "from scenario_comparison import LinkAttention, AttentionSet, Scenario, ODAttention"
   ]
  },
  {
   "cell_type": "code",
   "execution_count": 3,
   "metadata": {},
   "outputs": [],
   "source": [
    "link_attention_dict = OrderedDict()"
   ]
  },
  {
   "cell_type": "code",
   "execution_count": 4,
   "metadata": {},
   "outputs": [],
   "source": [
    "link_attention_dict['US30W1'] = [1099008, 1099009, 1099010, 1099011]\n",
    "link_attention_dict['US30E1'] = [99008, 99009, 99010, 99011]"
   ]
  },
  {
   "cell_type": "code",
   "execution_count": 5,
   "metadata": {},
   "outputs": [],
   "source": [
    "link_attention_dict['US30W2'] = [1012057, 12046]\n",
    "link_attention_dict['US30E2'] = [12057, 12178]"
   ]
  },
  {
   "cell_type": "code",
   "execution_count": 6,
   "metadata": {},
   "outputs": [],
   "source": [
    "link_attention_dict['US30W3'] = [12016, 1012014]\n",
    "link_attention_dict['US30E3'] = [1012016, 12014]"
   ]
  },
  {
   "cell_type": "code",
   "execution_count": 7,
   "metadata": {},
   "outputs": [],
   "source": [
    "link_attention_dict['US30W4'] = [1012032]\n",
    "link_attention_dict['US30E4'] = [12032]"
   ]
  },
  {
   "cell_type": "code",
   "execution_count": 8,
   "metadata": {},
   "outputs": [],
   "source": [
    "link_attention_dict['LocalDetourW'] = [1099004, 1099005, 1099007]\n",
    "link_attention_dict['LocalDetourE'] = [99004, 99005, 99007]"
   ]
  },
  {
   "cell_type": "code",
   "execution_count": 9,
   "metadata": {},
   "outputs": [],
   "source": [
    "link_attention_dict['LincolnW'] = [1005253, 1012149, 1012139]\n",
    "link_attention_dict['LincolnE'] = [5260, 5264, 5263]"
   ]
  },
  {
   "cell_type": "code",
   "execution_count": 10,
   "metadata": {},
   "outputs": [],
   "source": [
    "link_attention_dict['I76N'] = [12065]\n",
    "link_attention_dict['I76S'] = [4854]"
   ]
  },
  {
   "cell_type": "code",
   "execution_count": 11,
   "metadata": {},
   "outputs": [],
   "source": [
    "link_attention_dict['993W'] = [12175]\n",
    "link_attention_dict['993E'] = [1012204]"
   ]
  },
  {
   "cell_type": "code",
   "execution_count": 12,
   "metadata": {},
   "outputs": [],
   "source": [
    "link_attention_dict['130W'] = [12216, 1012222]\n",
    "link_attention_dict['130E'] = [12208, 12215]"
   ]
  },
  {
   "cell_type": "code",
   "execution_count": 13,
   "metadata": {},
   "outputs": [],
   "source": [
    "link_attention_dict['22W'] = [1012663, 12664, 12675]\n",
    "link_attention_dict['22E'] = [12663, 1012671, 4868]"
   ]
  },
  {
   "cell_type": "code",
   "execution_count": 14,
   "metadata": {},
   "outputs": [],
   "source": [
    "link_attention_dict['MDBridgeW'] = [5357]\n",
    "link_attention_dict['MDBridgeE'] = [5757]"
   ]
  },
  {
   "cell_type": "code",
   "execution_count": 15,
   "metadata": {},
   "outputs": [],
   "source": [
    "link_attention_dict['DravBridgeW'] = [5421]\n",
    "link_attention_dict['DravBridgeE'] = [1005421]"
   ]
  },
  {
   "cell_type": "code",
   "execution_count": 16,
   "metadata": {},
   "outputs": [],
   "source": [
    "link_attention_dict['P3LocalW'] = [12055, 1012151, 12162, 1012161]\n",
    "link_attention_dict['P3LocalE'] = [12155, 1012152, 1012162, 12161]"
   ]
  },
  {
   "cell_type": "code",
   "execution_count": 17,
   "metadata": {},
   "outputs": [],
   "source": [
    "link_attention_dict['P4LocalW'] = [1012186, 12035, 12177, 1012058]\n",
    "link_attention_dict['P4LocalE'] = [12186, 1012184, 1012177, 12058]"
   ]
  },
  {
   "cell_type": "code",
   "execution_count": 18,
   "metadata": {},
   "outputs": [],
   "source": [
    "attenset = AttentionSet()"
   ]
  },
  {
   "cell_type": "code",
   "execution_count": 19,
   "metadata": {},
   "outputs": [],
   "source": [
    "for name, link_list in link_attention_dict.items():\n",
    "    la = LinkAttention(link_list, name)\n",
    "    attenset.add_link_attention(la)"
   ]
  },
  {
   "cell_type": "markdown",
   "metadata": {},
   "source": [
    "## OD"
   ]
  },
  {
   "cell_type": "code",
   "execution_count": 3,
   "metadata": {},
   "outputs": [],
   "source": [
    "s = Scenario('base_AM', '/media/lemma/6fd56ab1-9fd1-480f-8be7-e3a9d62f667a/nhd/data/input_files_SPC_AM')"
   ]
  },
  {
   "cell_type": "code",
   "execution_count": 8,
   "metadata": {},
   "outputs": [],
   "source": [
    "OD_attention_dict = OrderedDict()"
   ]
  },
  {
   "cell_type": "code",
   "execution_count": 13,
   "metadata": {},
   "outputs": [],
   "source": [
    "Spots_dict = dict()\n",
    "Spots_dict['NHT'] = np.array([209910001, 209910002, 209910003, 209910004, \n",
    "                                  209910005, 209910006, 209910007]).astype(np.int)\n",
    "Spots_dict['DownTown'] = np.array([10, 13,  22, 7]).astype(np.int)\n",
    "Spots_dict['SouthSide'] = np.array([407, 408]).astype(np.int)\n",
    "Spots_dict['Wexford'] = np.array([678, 679, 714, 776]).astype(np.int)\n",
    "Spots_dict['NorthBraddock'] = np.array([322, 323, 324]).astype(np.int)\n",
    "Spots_dict['Greensburgh'] = np.array([1072, 1097]).astype(np.int)\n",
    "Spots_dict['Shadyside'] = np.array([95, 96, 97]).astype(np.int)\n",
    "Spots_dict['Airport'] = np.array([593]).astype(np.int)"
   ]
  },
  {
   "cell_type": "code",
   "execution_count": 14,
   "metadata": {},
   "outputs": [],
   "source": [
    "O_names = ['NHT']\n",
    "D_names = ['DownTown', 'SouthSide', 'Wexford', 'NorthBraddock', \n",
    "           'Greensburgh', 'Shadyside', 'Airport']"
   ]
  },
  {
   "cell_type": "code",
   "execution_count": 15,
   "metadata": {},
   "outputs": [
    {
     "name": "stdout",
     "output_type": "stream",
     "text": [
      "('NHT', 'DownTown')\n",
      "(28, 28)\n",
      "('NHT', 'SouthSide')\n",
      "(7, 7)\n",
      "('NHT', 'Wexford')\n",
      "(6, 7)\n",
      "('NHT', 'NorthBraddock')\n",
      "(7, 7)\n",
      "('NHT', 'Greensburgh')\n",
      "(7, 7)\n",
      "('NHT', 'Shadyside')\n",
      "(7, 7)\n",
      "('NHT', 'Airport')\n",
      "(6, 7)\n"
     ]
    }
   ],
   "source": [
    "D_link_offset = 1000000\n",
    "O_link_offset = 0\n",
    "new_offset = 5000\n",
    "for Oname in O_names:\n",
    "    for Dname in D_names:\n",
    "        print (Oname, Dname)\n",
    "        O_links = Spots_dict[Oname]\n",
    "        D_links = Spots_dict[Dname]\n",
    "        oda1 = ODAttention(Oname+\"_\"+Dname)\n",
    "        oda1.build_from_links(O_links, D_link_offset + D_links, s.nb)\n",
    "        oda2 = ODAttention(Dname+\"_\"+Oname)\n",
    "        oda2.build_from_links(O_link_offset + D_links, new_offset + O_links, s.nb)\n",
    "        print (len(oda1.path_list), len(oda2.path_list))"
   ]
  },
  {
   "cell_type": "code",
   "execution_count": null,
   "metadata": {},
   "outputs": [],
   "source": []
  }
 ],
 "metadata": {
  "kernelspec": {
   "display_name": "Python 2",
   "language": "python",
   "name": "python2"
  },
  "language_info": {
   "codemirror_mode": {
    "name": "ipython",
    "version": 2
   },
   "file_extension": ".py",
   "mimetype": "text/x-python",
   "name": "python",
   "nbconvert_exporter": "python",
   "pygments_lexer": "ipython2",
   "version": "2.7.10"
  }
 },
 "nbformat": 4,
 "nbformat_minor": 2
}
